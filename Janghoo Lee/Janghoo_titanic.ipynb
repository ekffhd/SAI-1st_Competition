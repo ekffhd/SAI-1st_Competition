{
 "cells": [
  {
   "cell_type": "code",
   "execution_count": 168,
   "metadata": {},
   "outputs": [],
   "source": [
    "import numpy as np\n",
    "import pandas as pd\n",
    "import matplotlib.pyplot as plt"
   ]
  },
  {
   "cell_type": "markdown",
   "metadata": {},
   "source": [
    "import seaborn as sns\n",
    "\n",
    "plt.style.use('fivethirtyeight')\n",
    "\n",
    "import warnings\n",
    "\n",
    "warnings.filterwarnings('ignore')\n",
    "\n",
    "%matplotlib inline\n",
    "\n",
    "이건 아직 import 안함. 나중에 필요할 때 import"
   ]
  },
  {
   "cell_type": "code",
   "execution_count": 169,
   "metadata": {},
   "outputs": [],
   "source": [
    "train = pd.read_csv(\"train.csv\")\n",
    "test = pd.read_csv(\"test.csv\")\n",
    "datas = [train, test]"
   ]
  },
  {
   "cell_type": "markdown",
   "metadata": {},
   "source": [
    "<h2> Data Pre - Processing </h2>\n",
    "\n",
    "<h3> 데이터 구경1 </h3>\n",
    "\n",
    "\n",
    "얘는 여기서 data 에 null 값이 있는지 없는지만 먼저 판단합니다.\n",
    "\n",
    "일단 아직 \"완전히 비어있는 값\" 만 null 값으로 여기고 넘어갑니다.\n",
    "\n",
    "아래에서는 한번 비어있는 값이 몇개나 있는지 개수를 알아보려고 출력해 보려고 하는 듯 합니다."
   ]
  },
  {
   "cell_type": "code",
   "execution_count": 170,
   "metadata": {},
   "outputs": [
    {
     "name": "stdout",
     "output_type": "stream",
     "text": [
      "PassengerId      0\n",
      "Survived         0\n",
      "Pclass           0\n",
      "Name             0\n",
      "Sex              0\n",
      "Age            177\n",
      "SibSp            0\n",
      "Parch            0\n",
      "Ticket           0\n",
      "Fare             0\n",
      "Cabin          687\n",
      "Embarked         2\n",
      "dtype: int64\n",
      "------------------\n",
      "PassengerId      0\n",
      "Pclass           0\n",
      "Name             0\n",
      "Sex              0\n",
      "Age             86\n",
      "SibSp            0\n",
      "Parch            0\n",
      "Ticket           0\n",
      "Fare             1\n",
      "Cabin          327\n",
      "Embarked         0\n",
      "dtype: int64\n",
      "------------------\n"
     ]
    }
   ],
   "source": [
    "for data in datas :\n",
    "    print(data.isnull().sum())\n",
    "    print('------------------')"
   ]
  },
  {
   "cell_type": "markdown",
   "metadata": {},
   "source": [
    "표가 두 개 나왔는데 위에 있는 표는 train 데이터, 아래에 있는 표는 test 데이터\n",
    "\n",
    "#there is null data in age, cabin, embarked\n",
    "\n",
    "\n",
    "_____________________________________________________________\n",
    "\n",
    "\n",
    " <h2> 데이터 구경2 </h2>"
   ]
  },
  {
   "cell_type": "code",
   "execution_count": 171,
   "metadata": {},
   "outputs": [
    {
     "data": {
      "text/plain": [
       "<matplotlib.axes._subplots.AxesSubplot at 0x2272a8afa58>"
      ]
     },
     "execution_count": 171,
     "metadata": {},
     "output_type": "execute_result"
    },
    {
     "data": {
      "image/png": "[encoded data removed]",
      "text/plain": [
       "<Figure size 360x504 with 1 Axes>"
      ]
     },
     "metadata": {
      "needs_background": "light"
     },
     "output_type": "display_data"
    }
   ],
   "source": [
    "plt.figure(figsize = [5, 7])\n",
    "train['Survived'].value_counts().plot.bar()"
   ]
  },
  {
   "cell_type": "markdown",
   "metadata": {},
   "source": [
    "0은 사망, 1은 생존이므로 엄청 많이 죽었다는 것을 알 수 있음.\n",
    "\n",
    "그리고 여기서 꽤나 유용한 메소드 value_count()"
   ]
  },
  {
   "cell_type": "markdown",
   "metadata": {},
   "source": [
    "_there are more people who didnt survived_\n",
    "\n",
    "_this competition is predict 'survived'. so, we focus on survived columns._\n",
    "\n",
    "_Sex vs Survived_\n",
    "\n",
    "_Pclass vs Survived_ <br>\n",
    "_PCclass : Ticket class\t1 = 1st, 2 = 2nd, 3 = 3rd_\n",
    "\n",
    "\n",
    "_Age vs Survived_ <br>\n",
    "\n",
    "_SipSp vs Survived_ <br>\n",
    "_SipSp : # of siblings / spouses aboard the Titanic_\n",
    "\n",
    "_Parch vs Survived_ <br>\n",
    "_Parch : # of parents / children aboard the Titanic_\n"
   ]
  },
  {
   "cell_type": "code",
   "execution_count": 172,
   "metadata": {},
   "outputs": [],
   "source": [
    "#이제 seaborn 이라는 라이브러리를 import 할 건데 이 라이브러리는 countplot 을 그리는데 사용되었음.\n",
    "#pyplot에서는 잘 지원을 하지 않아가지고..\n",
    "\n",
    "import seaborn as sns"
   ]
  },
  {
   "cell_type": "markdown",
   "metadata": {},
   "source": [
    "<h1> Data Visuallization </h1>\n",
    "    \n",
    "<h2> Seaborn Lib </h2>\n",
    "\n",
    "<h3> What is Seaborn? </h3>\n",
    "\n",
    "Seaborn: Python's Statistical Data Visualization Library\n",
    "One of the best but also more challenging ways to get your insights across is to visualize them: that way, you can more easily identify patterns, grasp difficult concepts or draw the attention to key elements. When you’re using Python for data science, you’ll most probably will have already used Matplotlib, a 2D plotting library that allows you to create publication-quality figures. Another complimentary package that is based on this data visualization library is Seaborn, which provides a high-level interface to draw statistical graphics. <br>\n",
    "위 내용 출처 : Seaborn home page\n",
    "\n",
    "<h3> Seaborn vs Matplotlib </h3>\n",
    "\n",
    "The seaborn package was developed based on the Matplotlib library. It is used to create more attractive and informative statistical graphics. While seaborn is a different package, it can also be used to develop the attractiveness of matplotlib graphics. While matplotlib is great, we always want to do better. <br>\n",
    "위 내용 출처 : https://www.kdnuggets.com/2019/04/data-visualization-python-matplotlib-seaborn.html <br>\n"
   ]
  },
  {
   "cell_type": "markdown",
   "metadata": {
    "scrolled": false
   },
   "source": [
    "<h4> 한번 해봤다가 안됨 </h4>\n",
    "\n",
    "figure_set = plt.figure(figsize = [15,20])\n",
    "cnt = 1\n",
    "for index in train.columns :\n",
    "    axbycnt = figure_set.add_subplot(4, 3, cnt) \n",
    "    print(index)\n",
    "    if (index != 'Name') and (index !='PassengerId') and (index != 'Ticket') and (index != 'Cabin') and (index != 'Ticket') and (index != 'Age') :\n",
    "        sns.countplot(index, hue = 'Survived', data = train, ax = axbycnt)\n",
    "    cnt+=1"
   ]
  },
  {
   "cell_type": "code",
   "execution_count": 173,
   "metadata": {},
   "outputs": [
    {
     "data": {
      "text/plain": [
       "<seaborn.axisgrid.FacetGrid at 0x22728adb898>"
      ]
     },
     "execution_count": 173,
     "metadata": {},
     "output_type": "execute_result"
    },
    {
     "data": {
      "image/png": "[encoded data removed]",
      "text/plain": [
       "<Figure size 430.5x360 with 1 Axes>"
      ]
     },
     "metadata": {
      "needs_background": "light"
     },
     "output_type": "display_data"
    }
   ],
   "source": [
    "#커널에는 factorplot 이라는 이름으로 소개되었는데, 함수가 아예 패치가 되면서 사라져버림. 이런 경우도 있다 싶음. \n",
    "#그런데 아무리 찾아봐도 여기서 저 쪼그만한 막대가 뭘 의미하는지는 잘 모르겠음\n",
    "sns.catplot('Pclass', 'Survived', hue='Sex', data=train, kind = 'point')"
   ]
  },
  {
   "cell_type": "markdown",
   "metadata": {},
   "source": [
    "To see more catplot examples, https://cmdlinetips.com/2019/03/catplot-in-seaborn-python/ <br>\n",
    "(Kor) https://datascienceschool.net/view-notebook/4c2d5ff1caab4b21a708cc662137bc65/"
   ]
  },
  {
   "cell_type": "code",
   "execution_count": 174,
   "metadata": {},
   "outputs": [
    {
     "data": {
      "text/plain": [
       "[<matplotlib.axis.YTick at 0x2272a9a9f28>,\n",
       " <matplotlib.axis.YTick at 0x2272a9a97f0>,\n",
       " <matplotlib.axis.YTick at 0x2272a9a3780>,\n",
       " <matplotlib.axis.YTick at 0x2272aa1ccf8>,\n",
       " <matplotlib.axis.YTick at 0x2272aa22208>,\n",
       " <matplotlib.axis.YTick at 0x2272aa226d8>,\n",
       " <matplotlib.axis.YTick at 0x2272aa22ba8>,\n",
       " <matplotlib.axis.YTick at 0x2272aa29128>,\n",
       " <matplotlib.axis.YTick at 0x2272aa29588>]"
      ]
     },
     "execution_count": 174,
     "metadata": {},
     "output_type": "execute_result"
    },
    {
     "data": {
      "image/png": "[encoded data removed]",
      "text/plain": [
       "<Figure size 864x432 with 2 Axes>"
      ]
     },
     "metadata": {
      "needs_background": "light"
     },
     "output_type": "display_data"
    }
   ],
   "source": [
    "f, ax = plt.subplots(1,2,figsize=(12,6))\n",
    "sns.violinplot('Pclass', 'Age', hue='Survived', data=train, split=True, ax=ax[0])\n",
    "ax[0].set_yticks(range(0,90,10))\n",
    "\n",
    "sns.violinplot('Sex', 'Age', hue='Survived', data=train, split=True, ax=ax[1])\n",
    "ax[1].set_yticks(range(0, 90, 10))"
   ]
  },
  {
   "cell_type": "code",
   "execution_count": 175,
   "metadata": {},
   "outputs": [
    {
     "data": {
      "text/plain": [
       "<seaborn.axisgrid.FacetGrid at 0x2272a926d68>"
      ]
     },
     "execution_count": 175,
     "metadata": {},
     "output_type": "execute_result"
    },
    {
     "data": {
      "image/png": "[encoded data removed]",
      "text/plain": [
       "<Figure size 1150.5x360 with 3 Axes>"
      ]
     },
     "metadata": {
      "needs_background": "light"
     },
     "output_type": "display_data"
    }
   ],
   "source": [
    "sns.catplot('Embarked', 'Survived', hue='Sex', col='Pclass', data=train, kind = 'point')"
   ]
  },
  {
   "cell_type": "code",
   "execution_count": 176,
   "metadata": {},
   "outputs": [
    {
     "data": {
      "text/plain": [
       "<matplotlib.axes._subplots.AxesSubplot at 0x2272aad6550>"
      ]
     },
     "execution_count": 176,
     "metadata": {},
     "output_type": "execute_result"
    },
    {
     "data": {
      "image/png": "[encoded data removed]",
      "text/plain": [
       "<Figure size 432x288 with 1 Axes>"
      ]
     },
     "metadata": {
      "needs_background": "light"
     },
     "output_type": "display_data"
    }
   ],
   "source": [
    "sns.barplot('SibSp', 'Survived', data=train)"
   ]
  },
  {
   "cell_type": "code",
   "execution_count": 177,
   "metadata": {},
   "outputs": [
    {
     "data": {
      "text/plain": [
       "<matplotlib.axes._subplots.AxesSubplot at 0x2272ab45748>"
      ]
     },
     "execution_count": 177,
     "metadata": {},
     "output_type": "execute_result"
    },
    {
     "data": {
      "image/png": "[encoded data removed]",
      "text/plain": [
       "<Figure size 432x288 with 1 Axes>"
      ]
     },
     "metadata": {
      "needs_background": "light"
     },
     "output_type": "display_data"
    }
   ],
   "source": [
    "sns.barplot('Parch', 'Survived', data=train)"
   ]
  },
  {
   "cell_type": "markdown",
   "metadata": {},
   "source": [
    "we simply looked at the data\n",
    "\n",
    "now, lets fill the null data and analysis the data, make model"
   ]
  },
  {
   "cell_type": "markdown",
   "metadata": {},
   "source": [
    "<h1>Fill the NaN</h1>"
   ]
  },
  {
   "cell_type": "code",
   "execution_count": 178,
   "metadata": {},
   "outputs": [],
   "source": [
    "del train, test, datas\n",
    "\n",
    "train = pd.read_csv(\"train.csv\")\n",
    "test = pd.read_csv(\"test.csv\")\n",
    "passenger = test['PassengerId']\n",
    "datas = [train, test]"
   ]
  },
  {
   "cell_type": "markdown",
   "metadata": {},
   "source": [
    "extract the initials of the name.<br>\n",
    "이름의 이니셜을 추출합니다.\n",
    "\n",
    "because of fill the nan value in 'Age' column.<br>\n",
    "왜냐하면 Age 열에 있는 데이터를 fill 해주기 위해서\n",
    "\n",
    "<h3> AGE nan filling </h3>"
   ]
  },
  {
   "cell_type": "code",
   "execution_count": 179,
   "metadata": {},
   "outputs": [
    {
     "name": "stdout",
     "output_type": "stream",
     "text": [
      "0          Mr\n",
      "1         Mrs\n",
      "2        Miss\n",
      "3         Mrs\n",
      "4          Mr\n",
      "5          Mr\n",
      "6          Mr\n",
      "7      Master\n",
      "8         Mrs\n",
      "9         Mrs\n",
      "10       Miss\n",
      "11       Miss\n",
      "12         Mr\n",
      "13         Mr\n",
      "14       Miss\n",
      "15        Mrs\n",
      "16     Master\n",
      "17         Mr\n",
      "18        Mrs\n",
      "19        Mrs\n",
      "20         Mr\n",
      "21         Mr\n",
      "22       Miss\n",
      "23         Mr\n",
      "24       Miss\n",
      "25        Mrs\n",
      "26         Mr\n",
      "27         Mr\n",
      "28       Miss\n",
      "29         Mr\n",
      "        ...  \n",
      "861        Mr\n",
      "862       Mrs\n",
      "863      Miss\n",
      "864        Mr\n",
      "865       Mrs\n",
      "866      Miss\n",
      "867        Mr\n",
      "868        Mr\n",
      "869    Master\n",
      "870        Mr\n",
      "871       Mrs\n",
      "872        Mr\n",
      "873        Mr\n",
      "874       Mrs\n",
      "875      Miss\n",
      "876        Mr\n",
      "877        Mr\n",
      "878        Mr\n",
      "879       Mrs\n",
      "880       Mrs\n",
      "881        Mr\n",
      "882      Miss\n",
      "883        Mr\n",
      "884        Mr\n",
      "885       Mrs\n",
      "886       Rev\n",
      "887      Miss\n",
      "888      Miss\n",
      "889        Mr\n",
      "890        Mr\n",
      "Name: Initial, Length: 891, dtype: object\n",
      "0          Mr\n",
      "1         Mrs\n",
      "2          Mr\n",
      "3          Mr\n",
      "4         Mrs\n",
      "5          Mr\n",
      "6        Miss\n",
      "7          Mr\n",
      "8         Mrs\n",
      "9          Mr\n",
      "10         Mr\n",
      "11         Mr\n",
      "12        Mrs\n",
      "13         Mr\n",
      "14        Mrs\n",
      "15        Mrs\n",
      "16         Mr\n",
      "17         Mr\n",
      "18       Miss\n",
      "19        Mrs\n",
      "20         Mr\n",
      "21     Master\n",
      "22        Mrs\n",
      "23         Mr\n",
      "24        Mrs\n",
      "25         Mr\n",
      "26       Miss\n",
      "27         Mr\n",
      "28         Mr\n",
      "29         Mr\n",
      "        ...  \n",
      "388        Mr\n",
      "389    Master\n",
      "390        Mr\n",
      "391       Mrs\n",
      "392    Master\n",
      "393        Mr\n",
      "394        Mr\n",
      "395       Mrs\n",
      "396        Mr\n",
      "397       Mrs\n",
      "398        Mr\n",
      "399        Mr\n",
      "400      Miss\n",
      "401        Mr\n",
      "402      Miss\n",
      "403        Mr\n",
      "404        Mr\n",
      "405        Mr\n",
      "406        Mr\n",
      "407        Mr\n",
      "408      Miss\n",
      "409      Miss\n",
      "410      Miss\n",
      "411       Mrs\n",
      "412      Miss\n",
      "413        Mr\n",
      "414      Dona\n",
      "415        Mr\n",
      "416        Mr\n",
      "417    Master\n",
      "Name: Initial, Length: 418, dtype: object\n"
     ]
    }
   ],
   "source": [
    "for data in datas: ##datas 에는 train 데이터와 test 데이터 둘 모두가 들어 있는데, 둘 다 데이터를 셋팅해주어야 해서 이렇게 쓴듯.\n",
    "    data['Initial'] = 0\n",
    "    data['Initial'] = data['Name'].str.extract('([A-Za-z]+)\\.')\n",
    "    #dataframe 형태로 저장된 data['Name'] 을 string 형으로 변환시켜 주는 것은 \n",
    "    #stirng 기반의 여러 유용한 메소드를 사용하기 위해서\n",
    "    \n",
    "    #extract() 는 인자로  Regular expression pattern 가 들어가는데\n",
    "    #이 Regep (REGular Expression Pattern)을 찾는 문법이 있는듯. 근데 그게 찾아봐도 뭔지잘 모르겠으니 생략.\n",
    "    \n",
    "    \n",
    "    \n",
    "    #이름의 initial 을 알면, 대략적인 AGE나 Gender 등을 알 수 있기 때문에 이 짓을 하고 있는듯함.\n",
    "    \n",
    "    print(data['Initial'])"
   ]
  },
  {
   "cell_type": "markdown",
   "metadata": {},
   "source": [
    "위에 Series 가 두 개 보일텐데, 윗놈은 train set 에 있는 애들의 호칭, 아랫놈은 test set 에 있는 애들의 호칭을 의미함\n",
    "\n",
    "test set 까지 훑어보는 이유가 뭔지는 잘 모르겠음."
   ]
  },
  {
   "cell_type": "code",
   "execution_count": 180,
   "metadata": {},
   "outputs": [
    {
     "data": {
      "text/plain": [
       "array(['Mr', 'Mrs', 'Miss', 'Master', 'Don', 'Rev', 'Dr', 'Mme', 'Ms',\n",
       "       'Major', 'Lady', 'Sir', 'Mlle', 'Col', 'Capt', 'Countess',\n",
       "       'Jonkheer'], dtype=object)"
      ]
     },
     "execution_count": 180,
     "metadata": {},
     "output_type": "execute_result"
    }
   ],
   "source": [
    "train['Initial'].unique()"
   ]
  },
  {
   "cell_type": "markdown",
   "metadata": {},
   "source": [
    "위에 unique method 가 사용되었는데, 이 메소드는 찾아보니 많은 기능이 있지만\n",
    "\n",
    "그 중 하나는 그냥 중복되는 것 다 제하고 하나씩만 보여주는 것인듯. \n",
    "\n",
    "pandas.series.unique()"
   ]
  },
  {
   "cell_type": "code",
   "execution_count": 181,
   "metadata": {},
   "outputs": [
    {
     "data": {
      "text/plain": [
       "array(['Mr', 'Mrs', 'Miss', 'Master', 'Other'], dtype=object)"
      ]
     },
     "execution_count": 181,
     "metadata": {},
     "output_type": "execute_result"
    }
   ],
   "source": [
    "for data in datas:\n",
    "    data['Initial'].replace(['Mlle','Mme','Ms','Dr','Major','Lady','Countess','Jonkheer','Col','Rev','Capt','Sir','Don', 'Dona'],\n",
    "                            ['Miss','Miss','Miss','Mr','Mr','Mrs','Mrs','Other','Other','Other','Mr','Mr','Mr','Other'],inplace=True)\n",
    "    #replace method\n",
    "    \n",
    "    #인자 Inplace = True 는 , return 값을 그냥 자기 자신에 바로 저장하는 인자인 것 같음.\n",
    "    \n",
    "\n",
    "data['Initial'].unique()"
   ]
  },
  {
   "cell_type": "code",
   "execution_count": 182,
   "metadata": {},
   "outputs": [
    {
     "data": {
      "text/plain": [
       "Initial\n",
       "Master     4.574167\n",
       "Miss      21.860000\n",
       "Mr        32.739609\n",
       "Mrs       35.981818\n",
       "Other     45.888889\n",
       "Name: Age, dtype: float64"
      ]
     },
     "execution_count": 182,
     "metadata": {},
     "output_type": "execute_result"
    }
   ],
   "source": [
    "train.groupby('Initial')['Age'].mean()"
   ]
  },
  {
   "cell_type": "markdown",
   "metadata": {},
   "source": [
    "여기서 또 유용한 method groupby()"
   ]
  },
  {
   "cell_type": "markdown",
   "metadata": {},
   "source": [
    "fill nan value in age focus on Initial\n",
    "\n"
   ]
  },
  {
   "cell_type": "code",
   "execution_count": 183,
   "metadata": {},
   "outputs": [],
   "source": [
    "for data in datas:\n",
    "    data.loc[(data['Age'].isnull()) & (data['Initial'] == 'Mr'), 'Age'] = 33\n",
    "    data.loc[(data['Age'].isnull()) & (data['Initial'] == 'Master'), 'Age'] = 5\n",
    "    data.loc[(data['Age'].isnull()) & (data['Initial'] == 'Mrs'), 'Age'] = 36\n",
    "    data.loc[(data['Age'].isnull()) & (data['Initial'] == 'Miss'), 'Age'] = 22\n",
    "    data.loc[(data['Age'].isnull()) & (data['Initial'] == 'Other'), 'Age'] = 46"
   ]
  },
  {
   "cell_type": "code",
   "execution_count": 184,
   "metadata": {
    "scrolled": true
   },
   "outputs": [
    {
     "name": "stdout",
     "output_type": "stream",
     "text": [
      "0\n",
      "0\n",
      "['Mr' 'Mrs' 'Miss' 'Master' 'Other']\n",
      "['Mr' 'Mrs' 'Miss' 'Master' 'Other']\n"
     ]
    }
   ],
   "source": [
    "print(datas[0]['Age'].isnull().sum())\n",
    "print(datas[1]['Age'].isnull().sum())\n",
    "print(datas[0]['Initial'].unique())\n",
    "print(datas[1]['Initial'].unique())\n",
    "\n",
    "#null 은 총 몇 개인지 한번 더 확인하는 것,\n"
   ]
  },
  {
   "cell_type": "markdown",
   "metadata": {},
   "source": [
    "<h3> \"Embarked\" nan Filling </h3>\n",
    "\n",
    "most of Embarked is 'S'. so fill the nan value in 'Embakred' by 'S'"
   ]
  },
  {
   "cell_type": "markdown",
   "metadata": {},
   "source": [
    "첨언하자면, Column 의 개수를 세는 것에는 여러 가지 방법이 있음.\n",
    "1. df = pd.DataFrame({'a':list('abssbab')}) <br>\n",
    "    df.groupby('a').count() <br><br>\n",
    "2. df['a'].value_counts()\n"
   ]
  },
  {
   "cell_type": "code",
   "execution_count": 185,
   "metadata": {
    "scrolled": true
   },
   "outputs": [
    {
     "name": "stdout",
     "output_type": "stream",
     "text": [
      "S    644\n",
      "C    168\n",
      "Q     77\n",
      "Name: Embarked, dtype: int64\n",
      "0      S\n",
      "1      C\n",
      "2      S\n",
      "3      S\n",
      "4      S\n",
      "5      Q\n",
      "6      S\n",
      "7      S\n",
      "8      S\n",
      "9      C\n",
      "10     S\n",
      "11     S\n",
      "12     S\n",
      "13     S\n",
      "14     S\n",
      "15     S\n",
      "16     Q\n",
      "17     S\n",
      "18     S\n",
      "19     C\n",
      "20     S\n",
      "21     S\n",
      "22     Q\n",
      "23     S\n",
      "24     S\n",
      "25     S\n",
      "26     C\n",
      "27     S\n",
      "28     Q\n",
      "29     S\n",
      "      ..\n",
      "861    S\n",
      "862    S\n",
      "863    S\n",
      "864    S\n",
      "865    S\n",
      "866    C\n",
      "867    S\n",
      "868    S\n",
      "869    S\n",
      "870    S\n",
      "871    S\n",
      "872    S\n",
      "873    S\n",
      "874    C\n",
      "875    C\n",
      "876    S\n",
      "877    S\n",
      "878    S\n",
      "879    C\n",
      "880    S\n",
      "881    S\n",
      "882    S\n",
      "883    S\n",
      "884    S\n",
      "885    Q\n",
      "886    S\n",
      "887    S\n",
      "888    S\n",
      "889    C\n",
      "890    Q\n",
      "Name: Embarked, Length: 891, dtype: object\n",
      "S    270\n",
      "C    102\n",
      "Q     46\n",
      "Name: Embarked, dtype: int64\n",
      "0      Q\n",
      "1      S\n",
      "2      Q\n",
      "3      S\n",
      "4      S\n",
      "5      S\n",
      "6      Q\n",
      "7      S\n",
      "8      C\n",
      "9      S\n",
      "10     S\n",
      "11     S\n",
      "12     S\n",
      "13     S\n",
      "14     S\n",
      "15     C\n",
      "16     Q\n",
      "17     C\n",
      "18     S\n",
      "19     C\n",
      "20     C\n",
      "21     S\n",
      "22     S\n",
      "23     C\n",
      "24     C\n",
      "25     S\n",
      "26     C\n",
      "27     C\n",
      "28     S\n",
      "29     C\n",
      "      ..\n",
      "388    Q\n",
      "389    S\n",
      "390    S\n",
      "391    S\n",
      "392    S\n",
      "393    S\n",
      "394    S\n",
      "395    S\n",
      "396    Q\n",
      "397    C\n",
      "398    S\n",
      "399    Q\n",
      "400    S\n",
      "401    S\n",
      "402    C\n",
      "403    S\n",
      "404    C\n",
      "405    C\n",
      "406    S\n",
      "407    C\n",
      "408    Q\n",
      "409    S\n",
      "410    Q\n",
      "411    Q\n",
      "412    S\n",
      "413    S\n",
      "414    C\n",
      "415    S\n",
      "416    S\n",
      "417    C\n",
      "Name: Embarked, Length: 418, dtype: object\n"
     ]
    }
   ],
   "source": [
    "for data in datas: \n",
    "    #print(data['Embarked'].unique())\n",
    "    print(data['Embarked'].value_counts())\n",
    "    print(data['Embarked'])"
   ]
  },
  {
   "cell_type": "code",
   "execution_count": 186,
   "metadata": {},
   "outputs": [],
   "source": [
    "for data in datas:\n",
    "    data['Embarked'].fillna('S', inplace=True)"
   ]
  },
  {
   "cell_type": "code",
   "execution_count": 187,
   "metadata": {},
   "outputs": [
    {
     "name": "stdout",
     "output_type": "stream",
     "text": [
      "0\n",
      "0\n"
     ]
    }
   ],
   "source": [
    "#혹시 null 이 남아있나 한번 더 점검.\n",
    "\n",
    "print(datas[0]['Embarked'].isnull().sum())\n",
    "print(datas[1]['Embarked'].isnull().sum())"
   ]
  },
  {
   "cell_type": "markdown",
   "metadata": {},
   "source": [
    "<h3> handling \"Fare Size\" </h3>\n",
    "\n",
    "\n",
    "Fare size to log scale beacause is too large"
   ]
  },
  {
   "cell_type": "code",
   "execution_count": 188,
   "metadata": {},
   "outputs": [],
   "source": [
    "#사실 왜 섣부르게 로그스케일로 만들어버리는지는 잘 모르겠는데\n",
    "#일단 따라가보도록 함.\n",
    "\n",
    "for data in datas:\n",
    "    data['Fare'] = data[\"Fare\"].map(lambda i: np.log(i) if i > 0 else 0)\n",
    "    \n",
    "    \n",
    "    #람다가 뭔지는 잘 모르겠음."
   ]
  },
  {
   "cell_type": "markdown",
   "metadata": {},
   "source": [
    "age to categorical\n",
    "\n",
    "\n",
    "numerical data 를 categorical data 로 만들겠다는 이야기같은데, 왜 이런짓을 하는지는 아직 잘 모르겠음.\n"
   ]
  },
  {
   "cell_type": "code",
   "execution_count": 189,
   "metadata": {},
   "outputs": [],
   "source": [
    "for data in datas:\n",
    "    data['Age_band']=0  \n",
    "    #새로운 column 을 만들고, 그 이름을 Age_band 라고 함. 뭐하는 column 인지는 아직 모름\n",
    "   \n",
    "    data.loc[data['Age']<=16,'Age_band']=0\n",
    "    #data[ 행(row) : 나이가 16세 이하. 열(column) : 'Age_band' ] 에 0을 대입한다.\n",
    "    #즉, 다시 말하면, 나이가 16세 이하라면 age_band 에 0을 넣는다는 이야기임.\n",
    "    #아래 네 줄도 같은 맥락인데, 왜 이렇게 나이기준을 [16 32 48 64 ] 이런식으로 잡은지는 잘 모르겠음.\n",
    "    \n",
    "    data.loc[(data['Age']>16)&(data['Age']<=32),'Age_band']=1\n",
    "    data.loc[(data['Age']>32)&(data['Age']<=48),'Age_band']=2\n",
    "    data.loc[(data['Age']>48)&(data['Age']<=64),'Age_band']=3\n",
    "    data.loc[data['Age']>64,'Age_band']=4"
   ]
  },
  {
   "cell_type": "markdown",
   "metadata": {},
   "source": [
    "make family_size\n",
    "\n",
    "\n",
    "가족의 size 도 카테고리컬로 만들어주려고 하는것 같음. <br>\n",
    "이렇게 보니까 전부 모르는 것 투성이 같은데, 문제는 자기도 왜 이렇게 하는지 잘 모르고 그냥 막 하는 중인듯"
   ]
  },
  {
   "cell_type": "code",
   "execution_count": 190,
   "metadata": {},
   "outputs": [],
   "source": [
    "for data in datas:\n",
    "    data['Family_Size']=0\n",
    "    #새로운 column 을 만들고, 그 이름을 Family_Size 라고 함.\n",
    "\n",
    "    data['Family_Size']=data['Parch']+data['SibSp']\n",
    "    #이 family size 라는 column 은, parch (부모님이 몇명인지) + sibsp (자식이 몇명인지) 를 합친 값을 가진 column 임\n",
    "    \n",
    "    data['Alone']=0\n",
    "    #'Alone' 이라는 새로운 Column 을 또 만들고, 그것을 0으로 초기화시킴.\n",
    "    \n",
    "    data.loc[data.Family_Size==0,'Alone']=1\n",
    "    #'Alone' 이것도 결국 categorical data 인데, 만약 Family_size 가 0이면, 혼자 사는거니까 1의 데이터를 넣어줌.\n"
   ]
  },
  {
   "cell_type": "markdown",
   "metadata": {},
   "source": [
    "and make categorical columns <br>\n",
    "카테고리컬 열을 더 만들어주겠다고 함"
   ]
  },
  {
   "cell_type": "code",
   "execution_count": 191,
   "metadata": {},
   "outputs": [],
   "source": [
    "for data in datas:\n",
    "    data['Sex'].replace(['male','female'],[0,1],inplace=True)\n",
    "    #male 을 0으로, female 을 1로 표시하도록 바꾸는 것임. inplace = True 지?\n",
    "    #그냥 문자데이터를 숫자로 바꾸는 것 그 이상도 이하도 의미가 없는 것\n",
    "    \n",
    "    \n",
    "    data['Embarked'].replace(['S','C','Q'],[0,1,2],inplace=True)\n",
    "    #이것도 비슷한 맥락임.\n",
    "    \n",
    "    data['Initial'].replace(['Mr','Mrs','Miss','Master','Other'],[0,1,2,3,4],inplace=True)\n",
    "    #이것도 비슷한 맥락임."
   ]
  },
  {
   "cell_type": "markdown",
   "metadata": {},
   "source": [
    "하면서 계속 이상한데.. 그냥 아무 의미 없이 하는 과정은 없어야하는데\n",
    "\n",
    "도대체 이걸 왜 하고 있는건지 잘 모르고 하고 있는것같아서 좀 마음이 아팠음\n",
    "\n",
    "\n",
    "그렇다면 잠깐 왜 이렇게  categorical data 에 집착하는지 알 필요가 .\n",
    "\n",
    "\n",
    "굳이 이미 category 인것을 다시 분류해넣을 필요가 있을까? 차원 축소도 아니고."
   ]
  },
  {
   "cell_type": "markdown",
   "metadata": {},
   "source": [
    "<h2> Why we make \"Categorical Data\" </h2>"
   ]
  },
  {
   "cell_type": "code",
   "execution_count": null,
   "metadata": {},
   "outputs": [],
   "source": []
  },
  {
   "cell_type": "markdown",
   "metadata": {},
   "source": [
    "다시 커널에 나온 대로 진행을 해 보자.\n",
    "\n",
    "\n",
    "<h1> Dimension Reduction </h1>\n",
    "\n",
    "drop unnecessary columns\n"
   ]
  },
  {
   "cell_type": "code",
   "execution_count": 192,
   "metadata": {},
   "outputs": [],
   "source": [
    "for data in datas:\n",
    "    data.drop(['Name','Age','Ticket','Cabin','PassengerId'],axis=1,inplace=True)\n",
    "    \n",
    "    \n",
    "    ##이미 categorical data 로 전환되었기 때문에 이걸 남겨둘 필요가 없었던 것"
   ]
  },
  {
   "cell_type": "code",
   "execution_count": 193,
   "metadata": {
    "scrolled": true
   },
   "outputs": [
    {
     "data": {
      "text/plain": [
       "Index(['Survived', 'Pclass', 'Sex', 'SibSp', 'Parch', 'Fare', 'Embarked',\n",
       "       'Initial', 'Age_band', 'Family_Size', 'Alone'],\n",
       "      dtype='object')"
      ]
     },
     "execution_count": 193,
     "metadata": {},
     "output_type": "execute_result"
    }
   ],
   "source": [
    "train.columns"
   ]
  },
  {
   "cell_type": "code",
   "execution_count": 194,
   "metadata": {},
   "outputs": [
    {
     "data": {
      "text/plain": [
       "Index(['Pclass', 'Sex', 'SibSp', 'Parch', 'Fare', 'Embarked', 'Initial',\n",
       "       'Age_band', 'Family_Size', 'Alone'],\n",
       "      dtype='object')"
      ]
     },
     "execution_count": 194,
     "metadata": {},
     "output_type": "execute_result"
    }
   ],
   "source": [
    "test.columns"
   ]
  },
  {
   "cell_type": "code",
   "execution_count": 195,
   "metadata": {},
   "outputs": [
    {
     "data": {
      "text/html": [
       "<div>\n",
       "<style scoped>\n",
       "    .dataframe tbody tr th:only-of-type {\n",
       "        vertical-align: middle;\n",
       "    }\n",
       "\n",
       "    .dataframe tbody tr th {\n",
       "        vertical-align: top;\n",
       "    }\n",
       "\n",
       "    .dataframe thead th {\n",
       "        text-align: right;\n",
       "    }\n",
       "</style>\n",
       "<table border=\"1\" class=\"dataframe\">\n",
       "  <thead>\n",
       "    <tr style=\"text-align: right;\">\n",
       "      <th></th>\n",
       "      <th>Survived</th>\n",
       "      <th>Pclass</th>\n",
       "      <th>Sex</th>\n",
       "      <th>SibSp</th>\n",
       "      <th>Parch</th>\n",
       "      <th>Fare</th>\n",
       "      <th>Embarked</th>\n",
       "      <th>Initial</th>\n",
       "      <th>Age_band</th>\n",
       "      <th>Family_Size</th>\n",
       "      <th>Alone</th>\n",
       "    </tr>\n",
       "  </thead>\n",
       "  <tbody>\n",
       "    <tr>\n",
       "      <th>0</th>\n",
       "      <td>0</td>\n",
       "      <td>3</td>\n",
       "      <td>0</td>\n",
       "      <td>1</td>\n",
       "      <td>0</td>\n",
       "      <td>1.981001</td>\n",
       "      <td>0</td>\n",
       "      <td>0</td>\n",
       "      <td>1</td>\n",
       "      <td>1</td>\n",
       "      <td>0</td>\n",
       "    </tr>\n",
       "    <tr>\n",
       "      <th>1</th>\n",
       "      <td>1</td>\n",
       "      <td>1</td>\n",
       "      <td>1</td>\n",
       "      <td>1</td>\n",
       "      <td>0</td>\n",
       "      <td>4.266662</td>\n",
       "      <td>1</td>\n",
       "      <td>1</td>\n",
       "      <td>2</td>\n",
       "      <td>1</td>\n",
       "      <td>0</td>\n",
       "    </tr>\n",
       "    <tr>\n",
       "      <th>2</th>\n",
       "      <td>1</td>\n",
       "      <td>3</td>\n",
       "      <td>1</td>\n",
       "      <td>0</td>\n",
       "      <td>0</td>\n",
       "      <td>2.070022</td>\n",
       "      <td>0</td>\n",
       "      <td>2</td>\n",
       "      <td>1</td>\n",
       "      <td>0</td>\n",
       "      <td>1</td>\n",
       "    </tr>\n",
       "    <tr>\n",
       "      <th>3</th>\n",
       "      <td>1</td>\n",
       "      <td>1</td>\n",
       "      <td>1</td>\n",
       "      <td>1</td>\n",
       "      <td>0</td>\n",
       "      <td>3.972177</td>\n",
       "      <td>0</td>\n",
       "      <td>1</td>\n",
       "      <td>2</td>\n",
       "      <td>1</td>\n",
       "      <td>0</td>\n",
       "    </tr>\n",
       "    <tr>\n",
       "      <th>4</th>\n",
       "      <td>0</td>\n",
       "      <td>3</td>\n",
       "      <td>0</td>\n",
       "      <td>0</td>\n",
       "      <td>0</td>\n",
       "      <td>2.085672</td>\n",
       "      <td>0</td>\n",
       "      <td>0</td>\n",
       "      <td>2</td>\n",
       "      <td>0</td>\n",
       "      <td>1</td>\n",
       "    </tr>\n",
       "  </tbody>\n",
       "</table>\n",
       "</div>"
      ],
      "text/plain": [
       "   Survived  Pclass  Sex  SibSp  Parch      Fare  Embarked  Initial  Age_band  \\\n",
       "0         0       3    0      1      0  1.981001         0        0         1   \n",
       "1         1       1    1      1      0  4.266662         1        1         2   \n",
       "2         1       3    1      0      0  2.070022         0        2         1   \n",
       "3         1       1    1      1      0  3.972177         0        1         2   \n",
       "4         0       3    0      0      0  2.085672         0        0         2   \n",
       "\n",
       "   Family_Size  Alone  \n",
       "0            1      0  \n",
       "1            1      0  \n",
       "2            0      1  \n",
       "3            1      0  \n",
       "4            0      1  "
      ]
     },
     "execution_count": 195,
     "metadata": {},
     "output_type": "execute_result"
    }
   ],
   "source": [
    "train.head()"
   ]
  },
  {
   "cell_type": "markdown",
   "metadata": {},
   "source": [
    "<h1> Make a model and Fit </h1>"
   ]
  },
  {
   "cell_type": "code",
   "execution_count": 196,
   "metadata": {},
   "outputs": [],
   "source": [
    "X=train[train.columns[1:]]\n",
    "Y=train['Survived']"
   ]
  },
  {
   "cell_type": "code",
   "execution_count": 197,
   "metadata": {},
   "outputs": [],
   "source": [
    "from sklearn.ensemble import RandomForestClassifier, AdaBoostClassifier, GradientBoostingClassifier, ExtraTreesClassifier, VotingClassifier\n",
    "from sklearn.discriminant_analysis import LinearDiscriminantAnalysis\n",
    "from sklearn.linear_model import LogisticRegression\n",
    "from sklearn.neighbors import KNeighborsClassifier\n",
    "from sklearn.tree import DecisionTreeClassifier\n",
    "from sklearn.neural_network import MLPClassifier\n",
    "from sklearn.svm import SVC\n",
    "from sklearn.model_selection import GridSearchCV, cross_val_score, StratifiedKFold, learning_curve\n",
    "\n",
    "kfold = StratifiedKFold(n_splits=10)"
   ]
  },
  {
   "cell_type": "markdown",
   "metadata": {},
   "source": [
    "<h2> What is sklearn? </h2>\n",
    "\n",
    "Scikit-learn Scikit-learn contains a number of state-of-the-art machine learning algorithms, as well as comprehensive documentation about\n",
    "each algorithm. Scikit-learn is a very popular tool, and the most prominent Python library for machine learning. It is widely used in industry and academia.<br>\n",
    "pf. Song 데이터분석개론 中\n",
    "\n",
    "\n",
    "\n",
    "\n",
    "<h3> What is RandomForestClassifier </h3>\n",
    "\n",
    "_from sklearn.ensemble import RandomForestClassifier_\n",
    "\n",
    "to learn Random Forest Classfier, we have to learn Regression Trree <br>\n",
    "To learn Regression Tree, https://youtu.be/xki7zQDf74I and https://youtu.be/2Rd4AqmLjfU <br>\n",
    "\n",
    "의사결정 트리는, 데이터가 균일해지도록 분할하는 일을 하는데, 예측과 분류에 따라 그 의미가 조금 다르다 <br>\n",
    "_예측_은 비슷한 수치를 가지고 있는 관측치끼리 모으는 것 <br>\n",
    "_분류_는 비슷한 범주를 가지고 있는 관측치끼리 모으는 것.\n",
    "\n",
    "\n",
    "\n",
    "\n",
    "<h3> AdaBoostClassifier </h3>\n",
    "\n",
    "_from sklearn.ensemble import AdaBoostClassifier_\n",
    "\n",
    "\n",
    "\n",
    "learn adaboost : https://www.youtube.com/watch?v=LsK-xG1cLYA <br>\n",
    "\n",
    "Adaboost is used to combine with Descision tree.<br>\n",
    "\n",
    "<h4> adaboost's 3 concept </h4> <br>\n",
    "\n",
    "Random Forest <--> Adaboost\n",
    "각 나무들의 투표로 결과 산출 <--> 각 stump 들의 투표로 결과 산출 <br>\n",
    "각 나무들의 size가 제각각 <--> 각 나무들의 size가 단일함 <br>\n",
    "각 나무들이 독립적 <--> 각 stump들이 서로 영향을 미침 <br>\n",
    "\n"
   ]
  },
  {
   "cell_type": "markdown",
   "metadata": {},
   "source": [
    "<h3> What is Straitified K Fold? </h3>\n",
    "<br>\n",
    "straitified : 계층화된 <br>\n",
    "\n",
    "<h4> What is K - Fold </h4>\n",
    "<h5> Summary </h5> <br>\n",
    "To learn K - Fold Cross Validation : https://youtu.be/fSytzGwwBVw <br>\n",
    "Cross validation allows us to compare different machine learning methods and get a sense of how well they will work in practice.<br>\n",
    "우리는 Training Set와 Test Set 로 나누는데, 그런데 그 Test Set 를 10분할해서 1개를 Validation Set 로 만든다면, 10 Fold 가 되는 것.<br>\n",
    "Training Set 를 자동으로 K분할한 세트를 만들어줄 수 있도록 도와주는 것이 KFold.\n",
    "\n",
    "<h4> Then, Why we must \"Stratify\"? </h4>\n",
    "\n",
    "What is Stratify Selection? to learn more : https://youtu.be/sYRUYJYOpG0 <br>"
   ]
  },
  {
   "cell_type": "markdown",
   "metadata": {},
   "source": [
    "<h3> What is Ensemble </h3>"
   ]
  },
  {
   "cell_type": "code",
   "execution_count": null,
   "metadata": {},
   "outputs": [],
   "source": []
  },
  {
   "cell_type": "markdown",
   "metadata": {},
   "source": [
    "<h3>Perfomance Evaluation</h3>"
   ]
  },
  {
   "cell_type": "markdown",
   "metadata": {},
   "source": [
    "<h4>AdaBoostClassifier</h4>"
   ]
  },
  {
   "cell_type": "code",
   "execution_count": 202,
   "metadata": {},
   "outputs": [
    {
     "data": {
      "text/plain": [
       "(array([], dtype=int64), array([], dtype=int64))"
      ]
     },
     "execution_count": 202,
     "metadata": {},
     "output_type": "execute_result"
    }
   ],
   "source": [
    "np.where(np.isnan(X))"
   ]
  },
  {
   "cell_type": "code",
   "execution_count": 203,
   "metadata": {},
   "outputs": [
    {
     "name": "stdout",
     "output_type": "stream",
     "text": [
      "Fitting 10 folds for each of 168 candidates, totalling 1680 fits\n"
     ]
    },
    {
     "name": "stderr",
     "output_type": "stream",
     "text": [
      "[Parallel(n_jobs=4)]: Using backend LokyBackend with 4 concurrent workers.\n",
      "[Parallel(n_jobs=4)]: Done 135 tasks      | elapsed:    3.9s\n",
      "[Parallel(n_jobs=4)]: Done 1680 out of 1680 | elapsed:   10.9s finished\n"
     ]
    },
    {
     "data": {
      "text/plain": [
       "0.8125701459034792"
      ]
     },
     "execution_count": 203,
     "metadata": {},
     "output_type": "execute_result"
    }
   ],
   "source": [
    "kfold = StratifiedKFold(n_splits=10)\n",
    "decisionTree = DecisionTreeClassifier()\n",
    "\n",
    "ada = AdaBoostClassifier(decisionTree, random_state=0)\n",
    "\n",
    "## 그리드 서치\n",
    "ada_param_grid = {\"base_estimator__criterion\" : [\"gini\", \"entropy\"],\n",
    "              \"base_estimator__splitter\" :   [\"best\", \"random\"],\n",
    "              \"algorithm\" : [\"SAMME\",\"SAMME.R\"],\n",
    "              \"n_estimators\" :[1,2,3],\n",
    "              \"learning_rate\":  [0.0001, 0.001, 0.01, 0.1, 0.2, 0.3,1.5]}\n",
    "\n",
    "decision_grid = GridSearchCV(ada, param_grid = ada_param_grid, cv=kfold, scoring=\"accuracy\", n_jobs= 4, verbose = 1)\n",
    "\n",
    "decision_grid.fit(X,Y)\n",
    "\n",
    "ada_best = decision_grid.best_estimator_\n",
    "decision_grid.best_score_"
   ]
  },
  {
   "cell_type": "markdown",
   "metadata": {},
   "source": [
    "<h4> RandomForestClassifier </h4>"
   ]
  },
  {
   "cell_type": "code",
   "execution_count": 204,
   "metadata": {},
   "outputs": [
    {
     "name": "stdout",
     "output_type": "stream",
     "text": [
      "Fitting 10 folds for each of 162 candidates, totalling 1620 fits\n"
     ]
    },
    {
     "name": "stderr",
     "output_type": "stream",
     "text": [
      "[Parallel(n_jobs=4)]: Using backend LokyBackend with 4 concurrent workers.\n",
      "[Parallel(n_jobs=4)]: Done  42 tasks      | elapsed:   12.0s\n",
      "[Parallel(n_jobs=4)]: Done 192 tasks      | elapsed:  1.1min\n",
      "[Parallel(n_jobs=4)]: Done 442 tasks      | elapsed:  2.3min\n",
      "[Parallel(n_jobs=4)]: Done 792 tasks      | elapsed:  4.3min\n",
      "[Parallel(n_jobs=4)]: Done 1242 tasks      | elapsed:  7.3min\n",
      "[Parallel(n_jobs=4)]: Done 1620 out of 1620 | elapsed: 10.6min finished\n"
     ]
    },
    {
     "data": {
      "text/plain": [
       "0.8372615039281706"
      ]
     },
     "execution_count": 204,
     "metadata": {},
     "output_type": "execute_result"
    }
   ],
   "source": [
    "rf = RandomForestClassifier()\n",
    "\n",
    "\n",
    "## 그리드 서치\n",
    "rf_param_grid = {\"max_depth\": [None],\n",
    "              \"max_features\": [1, 3, 10],\n",
    "              \"min_samples_split\": [2, 3, 10],\n",
    "              \"min_samples_leaf\": [1, 3, 10],\n",
    "              \"bootstrap\": [False],\n",
    "              \"n_estimators\" :[100,300, 500, 700, 800, 900]\n",
    "              }\n",
    "\n",
    "\n",
    "rf_grid = GridSearchCV(rf,param_grid = rf_param_grid, cv=kfold, scoring=\"accuracy\", n_jobs= 4, verbose = 1)\n",
    "\n",
    "rf_grid.fit(X,Y)\n",
    "\n",
    "rf_best = rf_grid.best_estimator_\n",
    "rf_grid.best_score_"
   ]
  },
  {
   "cell_type": "code",
   "execution_count": null,
   "metadata": {},
   "outputs": [],
   "source": []
  }
 ],
 "metadata": {
  "kernelspec": {
   "display_name": "Python 3",
   "language": "python",
   "name": "python3"
  },
  "language_info": {
   "codemirror_mode": {
    "name": "ipython",
    "version": 3
   },
   "file_extension": ".py",
   "mimetype": "text/x-python",
   "name": "python",
   "nbconvert_exporter": "python",
   "pygments_lexer": "ipython3",
   "version": "3.6.8"
  }
 },
 "nbformat": 4,
 "nbformat_minor": 2
}
